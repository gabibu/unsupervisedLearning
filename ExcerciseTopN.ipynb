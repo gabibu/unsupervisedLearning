{
 "cells": [
  {
   "cell_type": "markdown",
   "metadata": {},
   "source": [
    "# Item-Item Top-N Recommendations"
   ]
  },
  {
   "cell_type": "markdown",
   "metadata": {},
   "source": [
    "In this excercise we will implement a simple top-N recommender, evaluate the algorithms, and then call algorithms from the Surprise package. In top-N recommendations the algorithm is requested to produce a list of n items that the user will be interested in. \n",
    "In this particular execercise we will work with the escape room dataset that we have discussed in class.\n",
    "\n",
    "First, let's load the dataset, which is already split by time into a training set and a test set:"
   ]
  },
  {
   "cell_type": "code",
   "execution_count": 1,
   "metadata": {},
   "outputs": [],
   "source": [
    "import pandas as pd\n",
    "train_set_path = '/home/ubuntu/reco/resources/train_numerized_with_anon.csv'\n",
    "test_set_path = '/home/ubuntu/reco/resources/test_numerized_with_anon.csv'\n",
    "\n",
    "train_set = pd.read_csv(train_set_path, parse_dates=[3], index_col='index')\n",
    "test_set = pd.read_csv(test_set_path, parse_dates=[3], index_col='index')\n",
    "\n",
    "users_in_train = train_set.userID.unique()\n",
    "test_set = test_set[test_set.userID.isin(users_in_train)]"
   ]
  },
  {
   "cell_type": "code",
   "execution_count": 2,
   "metadata": {},
   "outputs": [],
   "source": [
    "train_set.rating = train_set.rating.astype(int)\n"
   ]
  },
  {
   "cell_type": "markdown",
   "metadata": {},
   "source": [
    "We can take a look at the structure of the dataset:"
   ]
  },
  {
   "cell_type": "code",
   "execution_count": 3,
   "metadata": {},
   "outputs": [
    {
     "data": {
      "text/html": [
       "<div>\n",
       "<style scoped>\n",
       "    .dataframe tbody tr th:only-of-type {\n",
       "        vertical-align: middle;\n",
       "    }\n",
       "\n",
       "    .dataframe tbody tr th {\n",
       "        vertical-align: top;\n",
       "    }\n",
       "\n",
       "    .dataframe thead th {\n",
       "        text-align: right;\n",
       "    }\n",
       "</style>\n",
       "<table border=\"1\" class=\"dataframe\">\n",
       "  <thead>\n",
       "    <tr style=\"text-align: right;\">\n",
       "      <th></th>\n",
       "      <th>userID</th>\n",
       "      <th>itemID</th>\n",
       "      <th>rating</th>\n",
       "      <th>timestamp</th>\n",
       "    </tr>\n",
       "    <tr>\n",
       "      <th>index</th>\n",
       "      <th></th>\n",
       "      <th></th>\n",
       "      <th></th>\n",
       "      <th></th>\n",
       "    </tr>\n",
       "  </thead>\n",
       "  <tbody>\n",
       "    <tr>\n",
       "      <th>0</th>\n",
       "      <td>0</td>\n",
       "      <td>0</td>\n",
       "      <td>10</td>\n",
       "      <td>11/11/2015</td>\n",
       "    </tr>\n",
       "    <tr>\n",
       "      <th>1</th>\n",
       "      <td>1</td>\n",
       "      <td>0</td>\n",
       "      <td>10</td>\n",
       "      <td>11/11/2015</td>\n",
       "    </tr>\n",
       "    <tr>\n",
       "      <th>2</th>\n",
       "      <td>2</td>\n",
       "      <td>0</td>\n",
       "      <td>8</td>\n",
       "      <td>11/11/2015</td>\n",
       "    </tr>\n",
       "    <tr>\n",
       "      <th>3</th>\n",
       "      <td>3</td>\n",
       "      <td>0</td>\n",
       "      <td>10</td>\n",
       "      <td>11/11/2015</td>\n",
       "    </tr>\n",
       "    <tr>\n",
       "      <th>4</th>\n",
       "      <td>4</td>\n",
       "      <td>0</td>\n",
       "      <td>10</td>\n",
       "      <td>11/11/2015</td>\n",
       "    </tr>\n",
       "  </tbody>\n",
       "</table>\n",
       "</div>"
      ],
      "text/plain": [
       "       userID  itemID  rating   timestamp\n",
       "index                                    \n",
       "0           0       0      10  11/11/2015\n",
       "1           1       0      10  11/11/2015\n",
       "2           2       0       8  11/11/2015\n",
       "3           3       0      10  11/11/2015\n",
       "4           4       0      10  11/11/2015"
      ]
     },
     "execution_count": 3,
     "metadata": {},
     "output_type": "execute_result"
    }
   ],
   "source": [
    "train_set.head()"
   ]
  },
  {
   "cell_type": "code",
   "execution_count": null,
   "metadata": {},
   "outputs": [],
   "source": []
  },
  {
   "cell_type": "markdown",
   "metadata": {},
   "source": [
    "## Part 1: Recommend Most Popular Items "
   ]
  },
  {
   "cell_type": "markdown",
   "metadata": {},
   "source": [
    "Now we can begin implementing the our first algorithm, that recommends to the user the list of most popular items. Although this is not a personalized approach, in many cases, this is not a bad idea - popular items are popular because everybody choose them, so there is a high likelihood that recommended popular items will be indeed chosen by the user.\n",
    "\n",
    "In the code below, fill in the missing parts. The algorithm has a training method, where item popularity is computed, and a recommendation method, where the list of popular items."
   ]
  },
  {
   "cell_type": "code",
   "execution_count": 2,
   "metadata": {},
   "outputs": [],
   "source": [
    "class MostPopular:\n",
    "\n",
    "    def __init__(self):\n",
    "        self.item_ratings_sorted = None\n",
    "        self.train_set = None\n",
    "\n",
    "    def learn_model(self, train_set):\n",
    "        self.train_set = train_set\n",
    "        self.item_ratings_sorted = train_set.groupby('itemID')['userID'].count().sort_values(ascending=False)\n",
    "        \n",
    "\n",
    "    def get_top_n_recommendations(self, test_set, top_n):\n",
    "        result = {}\n",
    "        already_ranked_items_by_user = self.train_set.groupby('userID')['itemID'].apply(set)\n",
    "        users_to_already_ranked = already_ranked_items_by_user.to_dict()\n",
    "        \n",
    "        for userID in test_set.userID.unique():\n",
    "            result[str(userID)] = []\n",
    "\n",
    "            current_user_ranked = users_to_already_ranked[userID] if userID in users_to_already_ranked else set()\n",
    "\n",
    "            for item_id, _ in self.item_ratings_sorted.items():\n",
    "\n",
    "                if item_id not in current_user_ranked:\n",
    "                    result[str(userID)].append(item_id)\n",
    "                    if len(result[str(userID)]) == top_n:\n",
    "                        break\n",
    "                        \n",
    "        return result\n",
    "\n",
    "    def clone(self):\n",
    "        pass\n"
   ]
  },
  {
   "cell_type": "markdown",
   "metadata": {},
   "source": [
    "Now we can call the most popular algorithm to deliver a list of reocmmendations. The code below prints the list of top 5 recommended items for user with ID 431."
   ]
  },
  {
   "cell_type": "code",
   "execution_count": 5,
   "metadata": {},
   "outputs": [
    {
     "name": "stdout",
     "output_type": "stream",
     "text": [
      "[53, 26, 68, 85, 16]\n"
     ]
    }
   ],
   "source": [
    "popular = MostPopular()\n",
    "popular.learn_model(train_set)\n",
    "popular_recs = popular.get_top_n_recommendations(test_set,top_n=5)\n",
    "print(popular_recs['431'])\n",
    "assert popular_recs['431'] == [53, 26, 68, 85, 16], 'Wrong computation of popular items'"
   ]
  },
  {
   "cell_type": "markdown",
   "metadata": {},
   "source": [
    "## Part 2 - Item-Item Recommendations"
   ]
  },
  {
   "cell_type": "markdown",
   "metadata": {},
   "source": [
    "We now learn a slightly more sophisticated model, that uses item-item similarities. Given such a similarity score, we can recommend to a user items that are most similar to the items that the user has chosen in the past. One such useful similarity metric is the Jaccard coefficient. For two items i1 and i2, the Jaccard similarity is the number of users who have chosen both i1 and i2, divided by the number of users who have chosen either i1 or i2. That is, given the list of users who have chosen i1 and the list of users who have chosen i2, the Jaccard similarity is the intersection of the lists, divided by the union of the lists.\n",
    "\n",
    "In practice, to expedite the recommendation process, and hence reduce online latency, we will compute the item-item co-occurence matrix in the model learning phase. Then, online, when recommendations are requested, we only need to compute for each item that the user has already chosen in the past, the Jaccard scores for the other items.\n",
    "\n",
    "As the user has chosen several items in the past, we need to aggregate the Jaccard scores. That is, if the user has previously chosen i1 and i2, item i3 has two scores J(i1,i3) and J(i2,i3), and an aggregation of the scores is needed. There are two popular aggregation functions - sum and max. Empirically, max typically has better perfromance.\n",
    "\n",
    "Fill in the missing parts in the code below."
   ]
  },
  {
   "cell_type": "code",
   "execution_count": 10,
   "metadata": {},
   "outputs": [],
   "source": [
    "from tqdm import tqdm\n",
    "import numpy as np\n",
    "import operator\n",
    "\n",
    "class Jaccard:\n",
    "\n",
    "    def __init__(self):\n",
    "        self.item_ratings_sorted = None\n",
    "        self.train_set = None\n",
    "        self.item_item_counts = dict()\n",
    "        self.item_counts = None\n",
    "\n",
    "    def learn_model(self, train_set):\n",
    "        print('Started training')\n",
    "        self.train_set = train_set\n",
    "        self.item_counts = self.train_set.groupby('itemID')['userID'].agg('count')\n",
    "\n",
    "        maxpair = 0\n",
    "        pbar = tqdm(total=len(train_set.userID.unique()))\n",
    "\n",
    "        # Iterating over all item pairs is inefficient. It is better to iterate only over pairs of items that were chosen together.\n",
    "        # Instead, we will iterate over the users, and for each user, and each two items that the user has chosen, increase the count\n",
    "        for u in train_set.userID.unique():\n",
    "            pbar.update(1)\n",
    "            user_items = list(set(self.train_set[self.train_set.userID == u]['itemID'].tolist()))\n",
    "\n",
    "            for index in range(len(user_items) -1):\n",
    "                nexts = user_items[index+1:]\n",
    "\n",
    "                for next in nexts:\n",
    "                    key = frozenset([user_items[index], next])\n",
    "                    if key not in self.item_item_counts:\n",
    "                        self.item_item_counts[key] = 0\n",
    "\n",
    "                    self.item_item_counts[key] = self.item_item_counts[key] + 1\n",
    "\n",
    "\n",
    "\n",
    "\n",
    "            # 4) For each pair of items in the user data - increase the counts in self.item_item_counts\n",
    "\n",
    "        pbar.close()\n",
    "        print('Done training')\n",
    "\n",
    "    def get_top_n_recommendations(self, test_set, top_n):\n",
    "        print('Started computing recommendations')\n",
    "        result = {}\n",
    "        already_ranked_items_by_users = self.train_set.groupby('userID')['itemID'].apply(list)\n",
    "\n",
    "        pbar = tqdm(total=len(test_set.userID.unique()))\n",
    "\n",
    "        # For each user in the test set compute recommendations\n",
    "        for userID in test_set.userID.unique():\n",
    "            pbar.update(1)\n",
    "            result[str(userID)] = []\n",
    "            # maxvalues will maintain for each potential item to recommend its highest Jaccard score.\n",
    "            maxvalues = dict()\n",
    "\n",
    "            # 4) Iterate over the items that the user has already chosen.\n",
    "            # For each such item compute its Jaccard correlation to other items based on the item_item_counts.\n",
    "            # Aggregate into maxvalues using max.\n",
    "            # Avoid recommending items that the user has already chosen in the training set.\n",
    "            for i in already_ranked_items_by_users[userID]:\n",
    "                with_current_item = [pair for pair in self.item_item_counts.keys() if i in pair]\n",
    "\n",
    "                for pair in with_current_item:\n",
    "                    item1, item2 = list(pair)\n",
    "\n",
    "                    if item1 in already_ranked_items_by_users[userID] and item2 in already_ranked_items_by_users[userID]:\n",
    "                        continue\n",
    "                    else:\n",
    "                        joint = self.item_item_counts[pair]\n",
    "                        union = sum(self.item_counts.filter(items=[item1, item2]).values)\n",
    "\n",
    "                        grade = joint/(union - joint)\n",
    "\n",
    "                        if i in maxvalues:\n",
    "                            current_best_grade = maxvalues[i][1]\n",
    "                        else:\n",
    "                            current_best_grade = -1\n",
    "\n",
    "                        if grade > current_best_grade:\n",
    "                            maxvalues[i] = (item1 if item1 != i else item2, grade)\n",
    "\n",
    "\n",
    "            # Now we just take the top N items by decreasing Jaccard\n",
    "            top_list = sorted(maxvalues.values(), key=lambda kv: -kv[1])\n",
    "            i = 0\n",
    "            j = 0\n",
    "            while i < top_n and j < len(top_list):\n",
    "                itemID = top_list[j][0]\n",
    "                j = j + 1\n",
    "                result[str(userID)].append(itemID)\n",
    "                i = i + 1\n",
    "\n",
    "        pbar.close()\n",
    "        print('Done computing recommendations')\n",
    "        return result\n",
    "\n",
    "    def clone(self):\n",
    "        pass\n",
    "\n",
    "    "
   ]
  },
  {
   "cell_type": "raw",
   "metadata": {},
   "source": [
    "The code below trains a Jaccard model and generates recommendations. Training will take a while, as we need to iterate over all users, and for each user go over her items in quadratic time."
   ]
  },
  {
   "cell_type": "code",
   "execution_count": 11,
   "metadata": {},
   "outputs": [
    {
     "name": "stderr",
     "output_type": "stream",
     "text": [
      "  1%|          | 121/20197 [00:00<00:16, 1203.77it/s]"
     ]
    },
    {
     "name": "stdout",
     "output_type": "stream",
     "text": [
      "Started training\n"
     ]
    },
    {
     "name": "stderr",
     "output_type": "stream",
     "text": [
      "100%|██████████| 20197/20197 [00:17<00:00, 1159.77it/s]\n"
     ]
    },
    {
     "name": "stdout",
     "output_type": "stream",
     "text": [
      "Done training\n",
      "Started computing recommendations\n"
     ]
    },
    {
     "name": "stderr",
     "output_type": "stream",
     "text": [
      "100%|██████████| 227/227 [12:13<00:00,  2.24s/it]"
     ]
    },
    {
     "name": "stdout",
     "output_type": "stream",
     "text": [
      "Done computing recommendations\n"
     ]
    },
    {
     "name": "stderr",
     "output_type": "stream",
     "text": [
      "\n"
     ]
    }
   ],
   "source": [
    "jaccard = Jaccard()\n",
    "jaccard.learn_model(train_set)\n",
    "jaccard_recs = jaccard.get_top_n_recommendations(test_set,top_n=5)\n"
   ]
  },
  {
   "cell_type": "markdown",
   "metadata": {},
   "source": [
    "As a side note - as computing the ite-item counts takes a while (especially with Python), we are using here the progress bar from the tqdm package (https://pypi.org/project/tqdm/). You need to install tqdm, or remove the progress bar, which would of course is not needed for the algorithm to run."
   ]
  },
  {
   "cell_type": "markdown",
   "metadata": {},
   "source": [
    "## Part 3 - Comparing the Algorithms "
   ]
  },
  {
   "cell_type": "markdown",
   "metadata": {},
   "source": [
    "We now want to compare the recommendation lists to see which one is better. In top-N recommendations it is popular to computer the Precision@N metric - the portion of recommended items that were chosen by users in the test set. This is typically a reasonable metric for real systems, where one wants to optimize the number of recommended items that are chosen.\n",
    "\n",
    "We compute Precision@N by comparing the number of recommendations chosen by the users, divided by the number of overall recommendations.\n",
    "\n",
    "Fill in the missing parts in the code below:"
   ]
  },
  {
   "cell_type": "code",
   "execution_count": 6,
   "metadata": {},
   "outputs": [],
   "source": [
    "def compute_precision(test_set, recommendations):\n",
    "    #hits is the number of items that were recommended and chosen\n",
    "    hits = 0\n",
    "    #recs is the total number of recommended items\n",
    "    recs = 0\n",
    "    \n",
    "    for u in test_set.userID.unique():\n",
    "        userData = test_set[test_set.userID == u]\n",
    "        userRecs = recommendations.get(str(u))\n",
    "        hits += userData['itemID'].isin(recommendations.get(str(u))).sum()\n",
    "        recs += len(userData['itemID'].unique())\n",
    "        \n",
    "        #5) Compute here the number of hits. Update hits and recs accordingly.\n",
    "        \n",
    "    return hits / recs\n",
    "        \n",
    "    "
   ]
  },
  {
   "cell_type": "code",
   "execution_count": 15,
   "metadata": {},
   "outputs": [
    {
     "name": "stdout",
     "output_type": "stream",
     "text": [
      "Jaccard= 0.048034934497816595   Popularity= 0.04512372634643377\n"
     ]
    }
   ],
   "source": [
    "p1 = compute_precision(test_set, jaccard_recs)\n",
    "p2 = compute_precision(test_set, popular_recs)\n",
    "print(\"Jaccard=\", p1, \"  Popularity=\", p2)"
   ]
  },
  {
   "cell_type": "markdown",
   "metadata": {},
   "source": [
    "The precision values for this dataset may seem pretty low, but this is typical for many top-N problems. It is important not to compute metrics that hide the true values, such as AUC, but to acknowledge the perfromance of the system in the application."
   ]
  },
  {
   "cell_type": "markdown",
   "metadata": {},
   "source": [
    "## Part 4 - Calling Algorithms from the Surprise Package"
   ]
  },
  {
   "cell_type": "markdown",
   "metadata": {
    "collapsed": true
   },
   "source": [
    "There are many existing recommendation algorithms available. We will now see how we can call algorithms from the Surprise package. \n",
    "\n",
    "The code below adds a wrapper around the algorithm to transform the resulting recommendations into our desired format."
   ]
  },
  {
   "cell_type": "markdown",
   "metadata": {},
   "source": [
    "#### NOTE: \n",
    "To run the code below you first have to install surprise (http://surpriselib.com/). surprise requires scipy >=1.0, so update if needed.\n",
    "\n",
    "To install: pip install scikit-surprise or, if you're using anaconda:  conda install -c conda-forge scikit-surprise).  "
   ]
  },
  {
   "cell_type": "code",
   "execution_count": 7,
   "metadata": {},
   "outputs": [],
   "source": [
    "import sys, string, os\n",
    "import pandas as pd\n",
    "import itertools\n",
    "from tqdm import tqdm\n",
    "import numpy as np\n",
    "import operator\n",
    "from surprise import Reader\n",
    "from surprise import Dataset\n",
    "from surprise.model_selection import PredefinedKFold\n",
    "from surprise.prediction_algorithms import *\n",
    "\n",
    "\n",
    "\n",
    "class SurpriseRecMethod():\n",
    "\n",
    "    #method will be the specific Surprise algorithm that we will call\n",
    "    def __init__(self, method):\n",
    "        self.method = method\n",
    "\n",
    "    def fit(self, train_set):\n",
    "        self.train_set = train_set\n",
    "\n",
    "\n",
    "    def get_top_n_recommendations(self, test_set, top_n):\n",
    "        self.test_set = test_set\n",
    "        \n",
    "        #Surprise requires a slightly different input data format, so we use two different CSVs\n",
    "        test_path_tmp = \"/home/ubuntu/reco/resources/test_file.csv\"\n",
    "        train_path_tmp = \"/home/ubuntu/reco/resources/train_file.csv\"\n",
    "\n",
    "        self.train_set.to_csv(train_path_tmp, index=False, header=False)\n",
    "        self.test_set.to_csv(test_path_tmp, index=False, header=False)\n",
    "\n",
    "        fold_files = [(train_path_tmp, test_path_tmp)]\n",
    "        reader = Reader(rating_scale=(1, 10), line_format='user item rating', sep=',')\n",
    "        data = Dataset.load_from_folds(fold_files, reader=reader)\n",
    "\n",
    "        for trainset, testset in PredefinedKFold().split(data):\n",
    "            self.method.fit(trainset)\n",
    "\n",
    "        already_ranked_items_by_users = self.train_set.groupby('userID')['itemID'].apply(list)\n",
    "\n",
    "        recommendations = {}\n",
    "        pbar = tqdm(total=len(self.test_set.userID.unique()))\n",
    "        for userID in self.test_set.userID.unique():\n",
    "            pbar.update(1)\n",
    "\n",
    "            if userID not in self.train_set.userID.unique():\n",
    "                recommendations[str(userID)] = []\n",
    "                continue\n",
    "\n",
    "            items_expected_ranking = {}\n",
    "            for itemID in self.train_set.itemID.unique():\n",
    "                if itemID in already_ranked_items_by_users[userID]:\n",
    "                    continue\n",
    "                #We call here the specific Surprise method that we use for this model\n",
    "                #The method predicts a score for a given item\n",
    "                predicted = self.method.predict(str(userID), str(itemID), clip=False)\n",
    "                items_expected_ranking[itemID] = predicted[3]\n",
    "                \n",
    "            #Now we just sort by decreasing scores and take the top N\n",
    "            sorted_predictions = sorted(items_expected_ranking.items(), key=operator.itemgetter(1))\n",
    "            sorted_predictions.reverse()\n",
    "            sorted_predictions = [x[0] for x in sorted_predictions]\n",
    "            user_recommendations = sorted_predictions[:top_n]\n",
    "            recommendations[str(userID)] = user_recommendations\n",
    "        pbar.close()\n",
    "        return recommendations\n"
   ]
  },
  {
   "cell_type": "markdown",
   "metadata": {},
   "source": [
    "The code below calls the package with the SlopeOne algorithm."
   ]
  },
  {
   "cell_type": "code",
   "execution_count": 9,
   "metadata": {},
   "outputs": [
    {
     "name": "stdout",
     "output_type": "stream",
     "text": [
      "g1\n"
     ]
    },
    {
     "name": "stderr",
     "output_type": "stream",
     "text": [
      "100%|██████████| 227/227 [00:04<00:00, 53.80it/s]\n"
     ]
    },
    {
     "data": {
      "text/plain": [
       "0.053857350800582245"
      ]
     },
     "execution_count": 9,
     "metadata": {},
     "output_type": "execute_result"
    }
   ],
   "source": [
    "modelSlopeOne = SurpriseRecMethod(SlopeOne())\n",
    "modelSlopeOne.fit(train_set)\n",
    "recSlopeOne = modelSlopeOne.get_top_n_recommendations(test_set, 5)\n",
    "p3 = compute_precision(test_set,recSlopeOne)\n",
    "p3"
   ]
  },
  {
   "cell_type": "markdown",
   "metadata": {},
   "source": [
    "The code below calls the package with a nearest neighbor user-item recommendation method."
   ]
  },
  {
   "cell_type": "code",
   "execution_count": 10,
   "metadata": {},
   "outputs": [
    {
     "name": "stdout",
     "output_type": "stream",
     "text": [
      "g1\n",
      "Computing the cosine similarity matrix...\n",
      "Done computing similarity matrix.\n"
     ]
    },
    {
     "name": "stderr",
     "output_type": "stream",
     "text": [
      "100%|██████████| 227/227 [00:11<00:00, 19.24it/s]\n"
     ]
    },
    {
     "name": "stdout",
     "output_type": "stream",
     "text": [
      "KNNBasic= 0.12518195050946143\n"
     ]
    }
   ],
   "source": [
    "modelKNNUser = SurpriseRecMethod(KNNBasic(sim_options={'name': 'cosine', 'user_based': True}))\n",
    "modelKNNUser.fit(train_set)\n",
    "recKNNUser = modelKNNUser.get_top_n_recommendations(test_set, 5)\n",
    "p4 = compute_precision(test_set,recKNNUser)\n",
    "print(\"KNNBasic=\",p4)"
   ]
  },
  {
   "cell_type": "markdown",
   "metadata": {},
   "source": [
    "Let us look at the results of all algorithms together:"
   ]
  },
  {
   "cell_type": "code",
   "execution_count": null,
   "metadata": {
    "collapsed": true
   },
   "outputs": [],
   "source": [
    "pd.DataFrame.from_dict({'Jaccard':p1,'Popularity':p2,'SlopeOne':p3,'User KNN':p4}, orient='index',columns=['Precision'])"
   ]
  },
  {
   "cell_type": "markdown",
   "metadata": {},
   "source": [
    "Try the NMF (non-negative matrix factorization) algorithms from the package - https://surprise.readthedocs.io/en/stable/matrix_factorization.html#surprise.prediction_algorithms.matrix_factorization.NMF.\n"
   ]
  },
  {
   "cell_type": "code",
   "execution_count": 16,
   "metadata": {},
   "outputs": [
    {
     "name": "stdout",
     "output_type": "stream",
     "text": [
      "g1\n"
     ]
    },
    {
     "name": "stderr",
     "output_type": "stream",
     "text": [
      "100%|██████████| 227/227 [00:03<00:00, 74.27it/s]\n"
     ]
    },
    {
     "data": {
      "text/plain": [
       "0.07132459970887918"
      ]
     },
     "execution_count": 16,
     "metadata": {},
     "output_type": "execute_result"
    }
   ],
   "source": [
    "from surprise.prediction_algorithms.matrix_factorization import NMF\n",
    "\n",
    "modelNMF = SurpriseRecMethod(NMF(n_factors=20, n_epochs=200))\n",
    "modelNMF.fit(train_set)\n",
    "recNMF = modelNMF.get_top_n_recommendations(test_set, 5)\n",
    "p5 = compute_precision(test_set,recNMF)\n",
    "p5"
   ]
  },
  {
   "cell_type": "markdown",
   "metadata": {},
   "source": [
    "For this particular dataset, the user nearest neighbor approach worked best. Hence, should we need to choose a method to put online, we should go with this method."
   ]
  },
  {
   "cell_type": "code",
   "execution_count": null,
   "metadata": {
    "collapsed": true
   },
   "outputs": [],
   "source": []
  }
 ],
 "metadata": {
  "kernelspec": {
   "display_name": "Python 3",
   "language": "python",
   "name": "python3"
  },
  "language_info": {
   "codemirror_mode": {
    "name": "ipython",
    "version": 3
   },
   "file_extension": ".py",
   "mimetype": "text/x-python",
   "name": "python",
   "nbconvert_exporter": "python",
   "pygments_lexer": "ipython3",
   "version": "3.6.7"
  }
 },
 "nbformat": 4,
 "nbformat_minor": 2
}
